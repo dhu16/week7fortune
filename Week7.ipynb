{
  "nbformat": 4,
  "nbformat_minor": 0,
  "metadata": {
    "colab": {
      "name": "Week7.ipynb",
      "provenance": [],
      "collapsed_sections": [],
      "include_colab_link": true
    },
    "kernelspec": {
      "name": "python3",
      "display_name": "Python 3"
    }
  },
  "cells": [
    {
      "cell_type": "markdown",
      "metadata": {
        "id": "view-in-github",
        "colab_type": "text"
      },
      "source": [
        "<a href=\"https://colab.research.google.com/github/dhu16/week7fortune/blob/main/Week7.ipynb\" target=\"_parent\"><img src=\"https://colab.research.google.com/assets/colab-badge.svg\" alt=\"Open In Colab\"/></a>"
      ]
    },
    {
      "cell_type": "code",
      "metadata": {
        "id": "FjYMA4NBF_fJ",
        "outputId": "fa414de6-6d57-4f66-aa63-a9d1154e0d39",
        "colab": {
          "base_uri": "https://localhost:8080/",
          "height": 34
        }
      },
      "source": [
        "from google.colab import drive\n",
        "drive.mount('/content/drive')"
      ],
      "execution_count": null,
      "outputs": [
        {
          "output_type": "stream",
          "text": [
            "Drive already mounted at /content/drive; to attempt to forcibly remount, call drive.mount(\"/content/drive\", force_remount=True).\n"
          ],
          "name": "stdout"
        }
      ]
    },
    {
      "cell_type": "code",
      "metadata": {
        "id": "Xyavf048gdi2",
        "outputId": "9884c7ac-e186-416b-d595-80145ef99126",
        "colab": {
          "base_uri": "https://localhost:8080/",
          "height": 272
        }
      },
      "source": [
        "!pip install PyDrive\n",
        "!pip install markovgen"
      ],
      "execution_count": null,
      "outputs": [
        {
          "output_type": "stream",
          "text": [
            "Requirement already satisfied: PyDrive in /usr/local/lib/python3.6/dist-packages (1.3.1)\n",
            "Requirement already satisfied: google-api-python-client>=1.2 in /usr/local/lib/python3.6/dist-packages (from PyDrive) (1.7.12)\n",
            "Requirement already satisfied: PyYAML>=3.0 in /usr/local/lib/python3.6/dist-packages (from PyDrive) (3.13)\n",
            "Requirement already satisfied: oauth2client>=4.0.0 in /usr/local/lib/python3.6/dist-packages (from PyDrive) (4.1.3)\n",
            "Requirement already satisfied: httplib2<1dev,>=0.17.0 in /usr/local/lib/python3.6/dist-packages (from google-api-python-client>=1.2->PyDrive) (0.17.4)\n",
            "Requirement already satisfied: google-auth-httplib2>=0.0.3 in /usr/local/lib/python3.6/dist-packages (from google-api-python-client>=1.2->PyDrive) (0.0.4)\n",
            "Requirement already satisfied: google-auth>=1.4.1 in /usr/local/lib/python3.6/dist-packages (from google-api-python-client>=1.2->PyDrive) (1.17.2)\n",
            "Requirement already satisfied: six<2dev,>=1.6.1 in /usr/local/lib/python3.6/dist-packages (from google-api-python-client>=1.2->PyDrive) (1.15.0)\n",
            "Requirement already satisfied: uritemplate<4dev,>=3.0.0 in /usr/local/lib/python3.6/dist-packages (from google-api-python-client>=1.2->PyDrive) (3.0.1)\n",
            "Requirement already satisfied: rsa>=3.1.4 in /usr/local/lib/python3.6/dist-packages (from oauth2client>=4.0.0->PyDrive) (4.6)\n",
            "Requirement already satisfied: pyasn1-modules>=0.0.5 in /usr/local/lib/python3.6/dist-packages (from oauth2client>=4.0.0->PyDrive) (0.2.8)\n",
            "Requirement already satisfied: pyasn1>=0.1.7 in /usr/local/lib/python3.6/dist-packages (from oauth2client>=4.0.0->PyDrive) (0.4.8)\n",
            "Requirement already satisfied: cachetools<5.0,>=2.0.0 in /usr/local/lib/python3.6/dist-packages (from google-auth>=1.4.1->google-api-python-client>=1.2->PyDrive) (4.1.1)\n",
            "Requirement already satisfied: setuptools>=40.3.0 in /usr/local/lib/python3.6/dist-packages (from google-auth>=1.4.1->google-api-python-client>=1.2->PyDrive) (50.3.0)\n",
            "Requirement already satisfied: markovgen in /usr/local/lib/python3.6/dist-packages (0.5)\n"
          ],
          "name": "stdout"
        }
      ]
    },
    {
      "cell_type": "code",
      "metadata": {
        "id": "SP2DJQzZFKFc"
      },
      "source": [
        "file = open(\"drive/My Drive/sample.txt\")"
      ],
      "execution_count": null,
      "outputs": []
    },
    {
      "cell_type": "code",
      "metadata": {
        "id": "4JAXFldMHgSu"
      },
      "source": [
        "import random\n",
        "\n",
        "class Markov(object):\n",
        "\t\n",
        "\tdef __init__(self, open_file):\n",
        "\t\tself.cache = {}\n",
        "\t\tself.open_file = open_file\n",
        "\t\tself.words = self.file_to_words()\n",
        "\t\tself.word_size = len(self.words)\n",
        "\t\tself.database()\n",
        "\t\t\n",
        "\t\n",
        "\tdef file_to_words(self):\n",
        "\t\tself.open_file.seek(0)\n",
        "\t\tdata = self.open_file.read()\n",
        "\t\twords = data.split()\n",
        "\t\treturn words\n",
        "\t\t\n",
        "\t\n",
        "\tdef triples(self):\n",
        "\t\t\"\"\" Generates triples from the given data string. So if our string were\n",
        "\t\t\t\t\"What a lovely day\", we'd generate (What, a, lovely) and then\n",
        "\t\t\t\t(a, lovely, day).\n",
        "\t\t\"\"\"\n",
        "\t\t\n",
        "\t\tif len(self.words) < 3:\n",
        "\t\t\treturn\n",
        "\t\t\n",
        "\t\tfor i in range(len(self.words) - 2):\n",
        "\t\t\tyield (self.words[i], self.words[i+1], self.words[i+2])\n",
        "\t\t\t\n",
        "\tdef database(self):\n",
        "\t\tfor w1, w2, w3 in self.triples():\n",
        "\t\t\tkey = (w1, w2)\n",
        "\t\t\tif key in self.cache:\n",
        "\t\t\t\tself.cache[key].append(w3)\n",
        "\t\t\telse:\n",
        "\t\t\t\tself.cache[key] = [w3]\n",
        "\t\t\t\t\n",
        "\tdef generate_markov_text(self, size=25):\n",
        "\t\tseed = random.randint(0, self.word_size-3)\n",
        "\t\tseed_word, next_word = self.words[seed], self.words[seed+1]\n",
        "\t\tw1, w2 = seed_word, next_word\n",
        "\t\tgen_words = []\n",
        "\t\tfor i in xrange(size):\n",
        "\t\t\tgen_words.append(w1)\n",
        "\t\t\tw1, w2 = w2, random.choice(self.cache[(w1, w2)])\n",
        "\t\tgen_words.append(w2)\n",
        "\t\treturn ' '.join(gen_words)\n",
        "\t\t\t\n",
        "\t\t\t"
      ],
      "execution_count": null,
      "outputs": []
    },
    {
      "cell_type": "code",
      "metadata": {
        "id": "KXLDSvExHiuG",
        "outputId": "79427baf-b4a8-454d-aeb2-e00939d30480",
        "colab": {
          "base_uri": "https://localhost:8080/",
          "height": 323
        }
      },
      "source": [
        "import markovgen\n",
        "\n",
        "markov = markovgen.Markov(file)\n",
        "\n",
        "x = 10\n",
        "for i in range(0, x):\n",
        "  print(markov.generate_markov_text())"
      ],
      "execution_count": null,
      "outputs": [
        {
          "output_type": "stream",
          "text": [
            "You have yearning for perfection.\n",
            "to others. You will be an optimist and proven a fool than to be a great success both in the desire placed on that thing.\n",
            "\n",
            "be better, but its[sic] good enough.\n",
            "\n",
            "makes all things will be rewarded sooner or later.\n",
            "\n",
            "a talented storyteller.\n",
            "It’s same as being not enough.\n",
            "\n",
            "make tomorrow is a powerful word.\n",
            "\n",
            "You have the power to write your own fortune.\n",
            "\n",
            "deal with problems before they arise.\n",
            "\n",
            "you far.\n",
            "\n"
          ],
          "name": "stdout"
        }
      ]
    }
  ]
}